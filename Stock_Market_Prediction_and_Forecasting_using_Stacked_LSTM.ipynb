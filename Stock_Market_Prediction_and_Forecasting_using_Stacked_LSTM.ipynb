{
  "nbformat": 4,
  "nbformat_minor": 0,
  "metadata": {
    "colab": {
      "name": "Stock Market Prediction and Forecasting using Stacked LSTM",
      "provenance": [],
      "collapsed_sections": [],
      "authorship_tag": "ABX9TyMR+INAZ3ShfrWnKrWxPRr/"
    },
    "kernelspec": {
      "name": "python3",
      "display_name": "Python 3"
    },
    "language_info": {
      "name": "python"
    }
  },
  "cells": [
    {
      "cell_type": "markdown",
      "source": [
        "# **LGMVIP - Data Science May 2022**\n",
        "## **Author : Kamireddy Ravi Kaladhar Reddy**\n",
        "### **Task 2: Stock Market Prediction and Forecasting using stacked LSTM**\n",
        "### **Level: Beginner**"
      ],
      "metadata": {
        "id": "nF64w3G0-8W1"
      }
    },
    {
      "cell_type": "code",
      "execution_count": 8,
      "metadata": {
        "id": "w2UAoJnZ-HSS"
      },
      "outputs": [],
      "source": [
        "from sklearn.preprocessing import MinMaxScaler\n",
        "from tensorflow.keras.models import Sequential\n",
        "from tensorflow.keras.layers import Dense\n",
        "from tensorflow.keras.layers import LSTM\n",
        "from sklearn.metrics import mean_squared_error\n",
        "\n",
        "import matplotlib.pyplot as plt\n",
        "import seaborn as sns\n",
        "import warnings \n",
        "import pandas as pd\n",
        "import numpy as np\n",
        "import math \n",
        "warnings.filterwarnings('ignore')"
      ]
    },
    {
      "cell_type": "code",
      "source": [
        "d = pd.read_csv('https://raw.githubusercontent.com/mwitiderrick/stockprice/master/NSE-TATAGLOBAL.csv')\n",
        "d.head()"
      ],
      "metadata": {
        "colab": {
          "base_uri": "https://localhost:8080/",
          "height": 206
        },
        "id": "9wmvXpgD-3jR",
        "outputId": "efe13ee5-ae5b-4ed2-d12f-b73a03bd2598"
      },
      "execution_count": 9,
      "outputs": [
        {
          "output_type": "execute_result",
          "data": {
            "text/plain": [
              "         Date    Open    High     Low    Last   Close  Total Trade Quantity  \\\n",
              "0  2018-09-28  234.05  235.95  230.20  233.50  233.75               3069914   \n",
              "1  2018-09-27  234.55  236.80  231.10  233.80  233.25               5082859   \n",
              "2  2018-09-26  240.00  240.00  232.50  235.00  234.25               2240909   \n",
              "3  2018-09-25  233.30  236.75  232.00  236.25  236.10               2349368   \n",
              "4  2018-09-24  233.55  239.20  230.75  234.00  233.30               3423509   \n",
              "\n",
              "   Turnover (Lacs)  \n",
              "0          7162.35  \n",
              "1         11859.95  \n",
              "2          5248.60  \n",
              "3          5503.90  \n",
              "4          7999.55  "
            ],
            "text/html": [
              "\n",
              "  <div id=\"df-af7eb400-a755-4783-ab31-4fb008c4eb9a\">\n",
              "    <div class=\"colab-df-container\">\n",
              "      <div>\n",
              "<style scoped>\n",
              "    .dataframe tbody tr th:only-of-type {\n",
              "        vertical-align: middle;\n",
              "    }\n",
              "\n",
              "    .dataframe tbody tr th {\n",
              "        vertical-align: top;\n",
              "    }\n",
              "\n",
              "    .dataframe thead th {\n",
              "        text-align: right;\n",
              "    }\n",
              "</style>\n",
              "<table border=\"1\" class=\"dataframe\">\n",
              "  <thead>\n",
              "    <tr style=\"text-align: right;\">\n",
              "      <th></th>\n",
              "      <th>Date</th>\n",
              "      <th>Open</th>\n",
              "      <th>High</th>\n",
              "      <th>Low</th>\n",
              "      <th>Last</th>\n",
              "      <th>Close</th>\n",
              "      <th>Total Trade Quantity</th>\n",
              "      <th>Turnover (Lacs)</th>\n",
              "    </tr>\n",
              "  </thead>\n",
              "  <tbody>\n",
              "    <tr>\n",
              "      <th>0</th>\n",
              "      <td>2018-09-28</td>\n",
              "      <td>234.05</td>\n",
              "      <td>235.95</td>\n",
              "      <td>230.20</td>\n",
              "      <td>233.50</td>\n",
              "      <td>233.75</td>\n",
              "      <td>3069914</td>\n",
              "      <td>7162.35</td>\n",
              "    </tr>\n",
              "    <tr>\n",
              "      <th>1</th>\n",
              "      <td>2018-09-27</td>\n",
              "      <td>234.55</td>\n",
              "      <td>236.80</td>\n",
              "      <td>231.10</td>\n",
              "      <td>233.80</td>\n",
              "      <td>233.25</td>\n",
              "      <td>5082859</td>\n",
              "      <td>11859.95</td>\n",
              "    </tr>\n",
              "    <tr>\n",
              "      <th>2</th>\n",
              "      <td>2018-09-26</td>\n",
              "      <td>240.00</td>\n",
              "      <td>240.00</td>\n",
              "      <td>232.50</td>\n",
              "      <td>235.00</td>\n",
              "      <td>234.25</td>\n",
              "      <td>2240909</td>\n",
              "      <td>5248.60</td>\n",
              "    </tr>\n",
              "    <tr>\n",
              "      <th>3</th>\n",
              "      <td>2018-09-25</td>\n",
              "      <td>233.30</td>\n",
              "      <td>236.75</td>\n",
              "      <td>232.00</td>\n",
              "      <td>236.25</td>\n",
              "      <td>236.10</td>\n",
              "      <td>2349368</td>\n",
              "      <td>5503.90</td>\n",
              "    </tr>\n",
              "    <tr>\n",
              "      <th>4</th>\n",
              "      <td>2018-09-24</td>\n",
              "      <td>233.55</td>\n",
              "      <td>239.20</td>\n",
              "      <td>230.75</td>\n",
              "      <td>234.00</td>\n",
              "      <td>233.30</td>\n",
              "      <td>3423509</td>\n",
              "      <td>7999.55</td>\n",
              "    </tr>\n",
              "  </tbody>\n",
              "</table>\n",
              "</div>\n",
              "      <button class=\"colab-df-convert\" onclick=\"convertToInteractive('df-af7eb400-a755-4783-ab31-4fb008c4eb9a')\"\n",
              "              title=\"Convert this dataframe to an interactive table.\"\n",
              "              style=\"display:none;\">\n",
              "        \n",
              "  <svg xmlns=\"http://www.w3.org/2000/svg\" height=\"24px\"viewBox=\"0 0 24 24\"\n",
              "       width=\"24px\">\n",
              "    <path d=\"M0 0h24v24H0V0z\" fill=\"none\"/>\n",
              "    <path d=\"M18.56 5.44l.94 2.06.94-2.06 2.06-.94-2.06-.94-.94-2.06-.94 2.06-2.06.94zm-11 1L8.5 8.5l.94-2.06 2.06-.94-2.06-.94L8.5 2.5l-.94 2.06-2.06.94zm10 10l.94 2.06.94-2.06 2.06-.94-2.06-.94-.94-2.06-.94 2.06-2.06.94z\"/><path d=\"M17.41 7.96l-1.37-1.37c-.4-.4-.92-.59-1.43-.59-.52 0-1.04.2-1.43.59L10.3 9.45l-7.72 7.72c-.78.78-.78 2.05 0 2.83L4 21.41c.39.39.9.59 1.41.59.51 0 1.02-.2 1.41-.59l7.78-7.78 2.81-2.81c.8-.78.8-2.07 0-2.86zM5.41 20L4 18.59l7.72-7.72 1.47 1.35L5.41 20z\"/>\n",
              "  </svg>\n",
              "      </button>\n",
              "      \n",
              "  <style>\n",
              "    .colab-df-container {\n",
              "      display:flex;\n",
              "      flex-wrap:wrap;\n",
              "      gap: 12px;\n",
              "    }\n",
              "\n",
              "    .colab-df-convert {\n",
              "      background-color: #E8F0FE;\n",
              "      border: none;\n",
              "      border-radius: 50%;\n",
              "      cursor: pointer;\n",
              "      display: none;\n",
              "      fill: #1967D2;\n",
              "      height: 32px;\n",
              "      padding: 0 0 0 0;\n",
              "      width: 32px;\n",
              "    }\n",
              "\n",
              "    .colab-df-convert:hover {\n",
              "      background-color: #E2EBFA;\n",
              "      box-shadow: 0px 1px 2px rgba(60, 64, 67, 0.3), 0px 1px 3px 1px rgba(60, 64, 67, 0.15);\n",
              "      fill: #174EA6;\n",
              "    }\n",
              "\n",
              "    [theme=dark] .colab-df-convert {\n",
              "      background-color: #3B4455;\n",
              "      fill: #D2E3FC;\n",
              "    }\n",
              "\n",
              "    [theme=dark] .colab-df-convert:hover {\n",
              "      background-color: #434B5C;\n",
              "      box-shadow: 0px 1px 3px 1px rgba(0, 0, 0, 0.15);\n",
              "      filter: drop-shadow(0px 1px 2px rgba(0, 0, 0, 0.3));\n",
              "      fill: #FFFFFF;\n",
              "    }\n",
              "  </style>\n",
              "\n",
              "      <script>\n",
              "        const buttonEl =\n",
              "          document.querySelector('#df-af7eb400-a755-4783-ab31-4fb008c4eb9a button.colab-df-convert');\n",
              "        buttonEl.style.display =\n",
              "          google.colab.kernel.accessAllowed ? 'block' : 'none';\n",
              "\n",
              "        async function convertToInteractive(key) {\n",
              "          const element = document.querySelector('#df-af7eb400-a755-4783-ab31-4fb008c4eb9a');\n",
              "          const dataTable =\n",
              "            await google.colab.kernel.invokeFunction('convertToInteractive',\n",
              "                                                     [key], {});\n",
              "          if (!dataTable) return;\n",
              "\n",
              "          const docLinkHtml = 'Like what you see? Visit the ' +\n",
              "            '<a target=\"_blank\" href=https://colab.research.google.com/notebooks/data_table.ipynb>data table notebook</a>'\n",
              "            + ' to learn more about interactive tables.';\n",
              "          element.innerHTML = '';\n",
              "          dataTable['output_type'] = 'display_data';\n",
              "          await google.colab.output.renderOutput(dataTable, element);\n",
              "          const docLink = document.createElement('div');\n",
              "          docLink.innerHTML = docLinkHtml;\n",
              "          element.appendChild(docLink);\n",
              "        }\n",
              "      </script>\n",
              "    </div>\n",
              "  </div>\n",
              "  "
            ]
          },
          "metadata": {},
          "execution_count": 9
        }
      ]
    },
    {
      "cell_type": "code",
      "source": [
        "d.info()"
      ],
      "metadata": {
        "colab": {
          "base_uri": "https://localhost:8080/"
        },
        "id": "cvDjuLax-66c",
        "outputId": "3d2439da-202e-4e6c-97a6-1c095025ed93"
      },
      "execution_count": 10,
      "outputs": [
        {
          "output_type": "stream",
          "name": "stdout",
          "text": [
            "<class 'pandas.core.frame.DataFrame'>\n",
            "RangeIndex: 2035 entries, 0 to 2034\n",
            "Data columns (total 8 columns):\n",
            " #   Column                Non-Null Count  Dtype  \n",
            "---  ------                --------------  -----  \n",
            " 0   Date                  2035 non-null   object \n",
            " 1   Open                  2035 non-null   float64\n",
            " 2   High                  2035 non-null   float64\n",
            " 3   Low                   2035 non-null   float64\n",
            " 4   Last                  2035 non-null   float64\n",
            " 5   Close                 2035 non-null   float64\n",
            " 6   Total Trade Quantity  2035 non-null   int64  \n",
            " 7   Turnover (Lacs)       2035 non-null   float64\n",
            "dtypes: float64(6), int64(1), object(1)\n",
            "memory usage: 127.3+ KB\n"
          ]
        }
      ]
    },
    {
      "cell_type": "code",
      "source": [
        "d.describe()"
      ],
      "metadata": {
        "colab": {
          "base_uri": "https://localhost:8080/",
          "height": 300
        },
        "id": "E4LziMKx_VvU",
        "outputId": "7b04f544-2839-44c9-feef-2065d7d5deba"
      },
      "execution_count": 11,
      "outputs": [
        {
          "output_type": "execute_result",
          "data": {
            "text/plain": [
              "              Open         High          Low         Last       Close  \\\n",
              "count  2035.000000  2035.000000  2035.000000  2035.000000  2035.00000   \n",
              "mean    149.713735   151.992826   147.293931   149.474251   149.45027   \n",
              "std      48.664509    49.413109    47.931958    48.732570    48.71204   \n",
              "min      81.100000    82.800000    80.000000    81.000000    80.95000   \n",
              "25%     120.025000   122.100000   118.300000   120.075000   120.05000   \n",
              "50%     141.500000   143.400000   139.600000   141.100000   141.25000   \n",
              "75%     157.175000   159.400000   155.150000   156.925000   156.90000   \n",
              "max     327.700000   328.750000   321.650000   325.950000   325.75000   \n",
              "\n",
              "       Total Trade Quantity  Turnover (Lacs)  \n",
              "count          2.035000e+03      2035.000000  \n",
              "mean           2.335681e+06      3899.980565  \n",
              "std            2.091778e+06      4570.767877  \n",
              "min            3.961000e+04        37.040000  \n",
              "25%            1.146444e+06      1427.460000  \n",
              "50%            1.783456e+06      2512.030000  \n",
              "75%            2.813594e+06      4539.015000  \n",
              "max            2.919102e+07     55755.080000  "
            ],
            "text/html": [
              "\n",
              "  <div id=\"df-f4c2b238-b3dd-4f4c-8884-7e7a35a2e977\">\n",
              "    <div class=\"colab-df-container\">\n",
              "      <div>\n",
              "<style scoped>\n",
              "    .dataframe tbody tr th:only-of-type {\n",
              "        vertical-align: middle;\n",
              "    }\n",
              "\n",
              "    .dataframe tbody tr th {\n",
              "        vertical-align: top;\n",
              "    }\n",
              "\n",
              "    .dataframe thead th {\n",
              "        text-align: right;\n",
              "    }\n",
              "</style>\n",
              "<table border=\"1\" class=\"dataframe\">\n",
              "  <thead>\n",
              "    <tr style=\"text-align: right;\">\n",
              "      <th></th>\n",
              "      <th>Open</th>\n",
              "      <th>High</th>\n",
              "      <th>Low</th>\n",
              "      <th>Last</th>\n",
              "      <th>Close</th>\n",
              "      <th>Total Trade Quantity</th>\n",
              "      <th>Turnover (Lacs)</th>\n",
              "    </tr>\n",
              "  </thead>\n",
              "  <tbody>\n",
              "    <tr>\n",
              "      <th>count</th>\n",
              "      <td>2035.000000</td>\n",
              "      <td>2035.000000</td>\n",
              "      <td>2035.000000</td>\n",
              "      <td>2035.000000</td>\n",
              "      <td>2035.00000</td>\n",
              "      <td>2.035000e+03</td>\n",
              "      <td>2035.000000</td>\n",
              "    </tr>\n",
              "    <tr>\n",
              "      <th>mean</th>\n",
              "      <td>149.713735</td>\n",
              "      <td>151.992826</td>\n",
              "      <td>147.293931</td>\n",
              "      <td>149.474251</td>\n",
              "      <td>149.45027</td>\n",
              "      <td>2.335681e+06</td>\n",
              "      <td>3899.980565</td>\n",
              "    </tr>\n",
              "    <tr>\n",
              "      <th>std</th>\n",
              "      <td>48.664509</td>\n",
              "      <td>49.413109</td>\n",
              "      <td>47.931958</td>\n",
              "      <td>48.732570</td>\n",
              "      <td>48.71204</td>\n",
              "      <td>2.091778e+06</td>\n",
              "      <td>4570.767877</td>\n",
              "    </tr>\n",
              "    <tr>\n",
              "      <th>min</th>\n",
              "      <td>81.100000</td>\n",
              "      <td>82.800000</td>\n",
              "      <td>80.000000</td>\n",
              "      <td>81.000000</td>\n",
              "      <td>80.95000</td>\n",
              "      <td>3.961000e+04</td>\n",
              "      <td>37.040000</td>\n",
              "    </tr>\n",
              "    <tr>\n",
              "      <th>25%</th>\n",
              "      <td>120.025000</td>\n",
              "      <td>122.100000</td>\n",
              "      <td>118.300000</td>\n",
              "      <td>120.075000</td>\n",
              "      <td>120.05000</td>\n",
              "      <td>1.146444e+06</td>\n",
              "      <td>1427.460000</td>\n",
              "    </tr>\n",
              "    <tr>\n",
              "      <th>50%</th>\n",
              "      <td>141.500000</td>\n",
              "      <td>143.400000</td>\n",
              "      <td>139.600000</td>\n",
              "      <td>141.100000</td>\n",
              "      <td>141.25000</td>\n",
              "      <td>1.783456e+06</td>\n",
              "      <td>2512.030000</td>\n",
              "    </tr>\n",
              "    <tr>\n",
              "      <th>75%</th>\n",
              "      <td>157.175000</td>\n",
              "      <td>159.400000</td>\n",
              "      <td>155.150000</td>\n",
              "      <td>156.925000</td>\n",
              "      <td>156.90000</td>\n",
              "      <td>2.813594e+06</td>\n",
              "      <td>4539.015000</td>\n",
              "    </tr>\n",
              "    <tr>\n",
              "      <th>max</th>\n",
              "      <td>327.700000</td>\n",
              "      <td>328.750000</td>\n",
              "      <td>321.650000</td>\n",
              "      <td>325.950000</td>\n",
              "      <td>325.75000</td>\n",
              "      <td>2.919102e+07</td>\n",
              "      <td>55755.080000</td>\n",
              "    </tr>\n",
              "  </tbody>\n",
              "</table>\n",
              "</div>\n",
              "      <button class=\"colab-df-convert\" onclick=\"convertToInteractive('df-f4c2b238-b3dd-4f4c-8884-7e7a35a2e977')\"\n",
              "              title=\"Convert this dataframe to an interactive table.\"\n",
              "              style=\"display:none;\">\n",
              "        \n",
              "  <svg xmlns=\"http://www.w3.org/2000/svg\" height=\"24px\"viewBox=\"0 0 24 24\"\n",
              "       width=\"24px\">\n",
              "    <path d=\"M0 0h24v24H0V0z\" fill=\"none\"/>\n",
              "    <path d=\"M18.56 5.44l.94 2.06.94-2.06 2.06-.94-2.06-.94-.94-2.06-.94 2.06-2.06.94zm-11 1L8.5 8.5l.94-2.06 2.06-.94-2.06-.94L8.5 2.5l-.94 2.06-2.06.94zm10 10l.94 2.06.94-2.06 2.06-.94-2.06-.94-.94-2.06-.94 2.06-2.06.94z\"/><path d=\"M17.41 7.96l-1.37-1.37c-.4-.4-.92-.59-1.43-.59-.52 0-1.04.2-1.43.59L10.3 9.45l-7.72 7.72c-.78.78-.78 2.05 0 2.83L4 21.41c.39.39.9.59 1.41.59.51 0 1.02-.2 1.41-.59l7.78-7.78 2.81-2.81c.8-.78.8-2.07 0-2.86zM5.41 20L4 18.59l7.72-7.72 1.47 1.35L5.41 20z\"/>\n",
              "  </svg>\n",
              "      </button>\n",
              "      \n",
              "  <style>\n",
              "    .colab-df-container {\n",
              "      display:flex;\n",
              "      flex-wrap:wrap;\n",
              "      gap: 12px;\n",
              "    }\n",
              "\n",
              "    .colab-df-convert {\n",
              "      background-color: #E8F0FE;\n",
              "      border: none;\n",
              "      border-radius: 50%;\n",
              "      cursor: pointer;\n",
              "      display: none;\n",
              "      fill: #1967D2;\n",
              "      height: 32px;\n",
              "      padding: 0 0 0 0;\n",
              "      width: 32px;\n",
              "    }\n",
              "\n",
              "    .colab-df-convert:hover {\n",
              "      background-color: #E2EBFA;\n",
              "      box-shadow: 0px 1px 2px rgba(60, 64, 67, 0.3), 0px 1px 3px 1px rgba(60, 64, 67, 0.15);\n",
              "      fill: #174EA6;\n",
              "    }\n",
              "\n",
              "    [theme=dark] .colab-df-convert {\n",
              "      background-color: #3B4455;\n",
              "      fill: #D2E3FC;\n",
              "    }\n",
              "\n",
              "    [theme=dark] .colab-df-convert:hover {\n",
              "      background-color: #434B5C;\n",
              "      box-shadow: 0px 1px 3px 1px rgba(0, 0, 0, 0.15);\n",
              "      filter: drop-shadow(0px 1px 2px rgba(0, 0, 0, 0.3));\n",
              "      fill: #FFFFFF;\n",
              "    }\n",
              "  </style>\n",
              "\n",
              "      <script>\n",
              "        const buttonEl =\n",
              "          document.querySelector('#df-f4c2b238-b3dd-4f4c-8884-7e7a35a2e977 button.colab-df-convert');\n",
              "        buttonEl.style.display =\n",
              "          google.colab.kernel.accessAllowed ? 'block' : 'none';\n",
              "\n",
              "        async function convertToInteractive(key) {\n",
              "          const element = document.querySelector('#df-f4c2b238-b3dd-4f4c-8884-7e7a35a2e977');\n",
              "          const dataTable =\n",
              "            await google.colab.kernel.invokeFunction('convertToInteractive',\n",
              "                                                     [key], {});\n",
              "          if (!dataTable) return;\n",
              "\n",
              "          const docLinkHtml = 'Like what you see? Visit the ' +\n",
              "            '<a target=\"_blank\" href=https://colab.research.google.com/notebooks/data_table.ipynb>data table notebook</a>'\n",
              "            + ' to learn more about interactive tables.';\n",
              "          element.innerHTML = '';\n",
              "          dataTable['output_type'] = 'display_data';\n",
              "          await google.colab.output.renderOutput(dataTable, element);\n",
              "          const docLink = document.createElement('div');\n",
              "          docLink.innerHTML = docLinkHtml;\n",
              "          element.appendChild(docLink);\n",
              "        }\n",
              "      </script>\n",
              "    </div>\n",
              "  </div>\n",
              "  "
            ]
          },
          "metadata": {},
          "execution_count": 11
        }
      ]
    },
    {
      "cell_type": "code",
      "source": [
        "d['Date'] = pd.to_datetime(d['Date'])\n",
        "d.dtypes"
      ],
      "metadata": {
        "colab": {
          "base_uri": "https://localhost:8080/"
        },
        "id": "dcoArctE_afg",
        "outputId": "accc94a5-aee3-4b77-f35c-ebee1ff3049e"
      },
      "execution_count": 12,
      "outputs": [
        {
          "output_type": "execute_result",
          "data": {
            "text/plain": [
              "Date                    datetime64[ns]\n",
              "Open                           float64\n",
              "High                           float64\n",
              "Low                            float64\n",
              "Last                           float64\n",
              "Close                          float64\n",
              "Total Trade Quantity             int64\n",
              "Turnover (Lacs)                float64\n",
              "dtype: object"
            ]
          },
          "metadata": {},
          "execution_count": 12
        }
      ]
    },
    {
      "cell_type": "code",
      "source": [
        "d = d.sort_values('Date')\n",
        "d.head()"
      ],
      "metadata": {
        "colab": {
          "base_uri": "https://localhost:8080/",
          "height": 206
        },
        "id": "Rt7Ougzk_dIT",
        "outputId": "29c608fc-cca4-40fb-84fa-1eb94a2e1993"
      },
      "execution_count": 13,
      "outputs": [
        {
          "output_type": "execute_result",
          "data": {
            "text/plain": [
              "           Date   Open    High     Low    Last   Close  Total Trade Quantity  \\\n",
              "2034 2010-07-21  122.1  123.00  121.05  121.10  121.55                658666   \n",
              "2033 2010-07-22  120.3  122.00  120.25  120.75  120.90                293312   \n",
              "2032 2010-07-23  121.8  121.95  120.25  120.35  120.65                281312   \n",
              "2031 2010-07-26  120.1  121.00  117.10  117.10  117.60                658440   \n",
              "2030 2010-07-27  117.6  119.50  112.00  118.80  118.65                586100   \n",
              "\n",
              "      Turnover (Lacs)  \n",
              "2034           803.56  \n",
              "2033           355.17  \n",
              "2032           340.31  \n",
              "2031           780.01  \n",
              "2030           694.98  "
            ],
            "text/html": [
              "\n",
              "  <div id=\"df-84e8d8f1-f030-45ba-bf70-ef55c8e4881b\">\n",
              "    <div class=\"colab-df-container\">\n",
              "      <div>\n",
              "<style scoped>\n",
              "    .dataframe tbody tr th:only-of-type {\n",
              "        vertical-align: middle;\n",
              "    }\n",
              "\n",
              "    .dataframe tbody tr th {\n",
              "        vertical-align: top;\n",
              "    }\n",
              "\n",
              "    .dataframe thead th {\n",
              "        text-align: right;\n",
              "    }\n",
              "</style>\n",
              "<table border=\"1\" class=\"dataframe\">\n",
              "  <thead>\n",
              "    <tr style=\"text-align: right;\">\n",
              "      <th></th>\n",
              "      <th>Date</th>\n",
              "      <th>Open</th>\n",
              "      <th>High</th>\n",
              "      <th>Low</th>\n",
              "      <th>Last</th>\n",
              "      <th>Close</th>\n",
              "      <th>Total Trade Quantity</th>\n",
              "      <th>Turnover (Lacs)</th>\n",
              "    </tr>\n",
              "  </thead>\n",
              "  <tbody>\n",
              "    <tr>\n",
              "      <th>2034</th>\n",
              "      <td>2010-07-21</td>\n",
              "      <td>122.1</td>\n",
              "      <td>123.00</td>\n",
              "      <td>121.05</td>\n",
              "      <td>121.10</td>\n",
              "      <td>121.55</td>\n",
              "      <td>658666</td>\n",
              "      <td>803.56</td>\n",
              "    </tr>\n",
              "    <tr>\n",
              "      <th>2033</th>\n",
              "      <td>2010-07-22</td>\n",
              "      <td>120.3</td>\n",
              "      <td>122.00</td>\n",
              "      <td>120.25</td>\n",
              "      <td>120.75</td>\n",
              "      <td>120.90</td>\n",
              "      <td>293312</td>\n",
              "      <td>355.17</td>\n",
              "    </tr>\n",
              "    <tr>\n",
              "      <th>2032</th>\n",
              "      <td>2010-07-23</td>\n",
              "      <td>121.8</td>\n",
              "      <td>121.95</td>\n",
              "      <td>120.25</td>\n",
              "      <td>120.35</td>\n",
              "      <td>120.65</td>\n",
              "      <td>281312</td>\n",
              "      <td>340.31</td>\n",
              "    </tr>\n",
              "    <tr>\n",
              "      <th>2031</th>\n",
              "      <td>2010-07-26</td>\n",
              "      <td>120.1</td>\n",
              "      <td>121.00</td>\n",
              "      <td>117.10</td>\n",
              "      <td>117.10</td>\n",
              "      <td>117.60</td>\n",
              "      <td>658440</td>\n",
              "      <td>780.01</td>\n",
              "    </tr>\n",
              "    <tr>\n",
              "      <th>2030</th>\n",
              "      <td>2010-07-27</td>\n",
              "      <td>117.6</td>\n",
              "      <td>119.50</td>\n",
              "      <td>112.00</td>\n",
              "      <td>118.80</td>\n",
              "      <td>118.65</td>\n",
              "      <td>586100</td>\n",
              "      <td>694.98</td>\n",
              "    </tr>\n",
              "  </tbody>\n",
              "</table>\n",
              "</div>\n",
              "      <button class=\"colab-df-convert\" onclick=\"convertToInteractive('df-84e8d8f1-f030-45ba-bf70-ef55c8e4881b')\"\n",
              "              title=\"Convert this dataframe to an interactive table.\"\n",
              "              style=\"display:none;\">\n",
              "        \n",
              "  <svg xmlns=\"http://www.w3.org/2000/svg\" height=\"24px\"viewBox=\"0 0 24 24\"\n",
              "       width=\"24px\">\n",
              "    <path d=\"M0 0h24v24H0V0z\" fill=\"none\"/>\n",
              "    <path d=\"M18.56 5.44l.94 2.06.94-2.06 2.06-.94-2.06-.94-.94-2.06-.94 2.06-2.06.94zm-11 1L8.5 8.5l.94-2.06 2.06-.94-2.06-.94L8.5 2.5l-.94 2.06-2.06.94zm10 10l.94 2.06.94-2.06 2.06-.94-2.06-.94-.94-2.06-.94 2.06-2.06.94z\"/><path d=\"M17.41 7.96l-1.37-1.37c-.4-.4-.92-.59-1.43-.59-.52 0-1.04.2-1.43.59L10.3 9.45l-7.72 7.72c-.78.78-.78 2.05 0 2.83L4 21.41c.39.39.9.59 1.41.59.51 0 1.02-.2 1.41-.59l7.78-7.78 2.81-2.81c.8-.78.8-2.07 0-2.86zM5.41 20L4 18.59l7.72-7.72 1.47 1.35L5.41 20z\"/>\n",
              "  </svg>\n",
              "      </button>\n",
              "      \n",
              "  <style>\n",
              "    .colab-df-container {\n",
              "      display:flex;\n",
              "      flex-wrap:wrap;\n",
              "      gap: 12px;\n",
              "    }\n",
              "\n",
              "    .colab-df-convert {\n",
              "      background-color: #E8F0FE;\n",
              "      border: none;\n",
              "      border-radius: 50%;\n",
              "      cursor: pointer;\n",
              "      display: none;\n",
              "      fill: #1967D2;\n",
              "      height: 32px;\n",
              "      padding: 0 0 0 0;\n",
              "      width: 32px;\n",
              "    }\n",
              "\n",
              "    .colab-df-convert:hover {\n",
              "      background-color: #E2EBFA;\n",
              "      box-shadow: 0px 1px 2px rgba(60, 64, 67, 0.3), 0px 1px 3px 1px rgba(60, 64, 67, 0.15);\n",
              "      fill: #174EA6;\n",
              "    }\n",
              "\n",
              "    [theme=dark] .colab-df-convert {\n",
              "      background-color: #3B4455;\n",
              "      fill: #D2E3FC;\n",
              "    }\n",
              "\n",
              "    [theme=dark] .colab-df-convert:hover {\n",
              "      background-color: #434B5C;\n",
              "      box-shadow: 0px 1px 3px 1px rgba(0, 0, 0, 0.15);\n",
              "      filter: drop-shadow(0px 1px 2px rgba(0, 0, 0, 0.3));\n",
              "      fill: #FFFFFF;\n",
              "    }\n",
              "  </style>\n",
              "\n",
              "      <script>\n",
              "        const buttonEl =\n",
              "          document.querySelector('#df-84e8d8f1-f030-45ba-bf70-ef55c8e4881b button.colab-df-convert');\n",
              "        buttonEl.style.display =\n",
              "          google.colab.kernel.accessAllowed ? 'block' : 'none';\n",
              "\n",
              "        async function convertToInteractive(key) {\n",
              "          const element = document.querySelector('#df-84e8d8f1-f030-45ba-bf70-ef55c8e4881b');\n",
              "          const dataTable =\n",
              "            await google.colab.kernel.invokeFunction('convertToInteractive',\n",
              "                                                     [key], {});\n",
              "          if (!dataTable) return;\n",
              "\n",
              "          const docLinkHtml = 'Like what you see? Visit the ' +\n",
              "            '<a target=\"_blank\" href=https://colab.research.google.com/notebooks/data_table.ipynb>data table notebook</a>'\n",
              "            + ' to learn more about interactive tables.';\n",
              "          element.innerHTML = '';\n",
              "          dataTable['output_type'] = 'display_data';\n",
              "          await google.colab.output.renderOutput(dataTable, element);\n",
              "          const docLink = document.createElement('div');\n",
              "          docLink.innerHTML = docLinkHtml;\n",
              "          element.appendChild(docLink);\n",
              "        }\n",
              "      </script>\n",
              "    </div>\n",
              "  </div>\n",
              "  "
            ]
          },
          "metadata": {},
          "execution_count": 13
        }
      ]
    },
    {
      "cell_type": "code",
      "source": [
        "plt.figure(figsize = (9,6))\n",
        "plt.title('Tata Stocks Closing Price')\n",
        "plt.plot(d['Close'],'g')\n",
        "plt.xlabel('Date',fontsize=15)\n",
        "plt.ylabel('Close',fontsize=15)"
      ],
      "metadata": {
        "colab": {
          "base_uri": "https://localhost:8080/",
          "height": 426
        },
        "id": "0pHDN_WB_hUp",
        "outputId": "ce28ca8a-b700-4a2e-bda1-1f004f2c1621"
      },
      "execution_count": 14,
      "outputs": [
        {
          "output_type": "execute_result",
          "data": {
            "text/plain": [
              "Text(0, 0.5, 'Close')"
            ]
          },
          "metadata": {},
          "execution_count": 14
        },
        {
          "output_type": "display_data",
          "data": {
            "text/plain": [
              "<Figure size 648x432 with 1 Axes>"
            ],
            "image/png": "[encoded data removed]"
          },
          "metadata": {
            "needs_background": "light"
          }
        }
      ]
    },
    {
      "cell_type": "code",
      "source": [
        "dcorr = d.corr()\n",
        "top_corr_features = dcorr.index\n",
        "plt.figure(figsize=(10,7))\n",
        "sns.heatmap(d[top_corr_features].corr(), annot=True, cmap=\"YlGnBu\")"
      ],
      "metadata": {
        "colab": {
          "base_uri": "https://localhost:8080/",
          "height": 539
        },
        "id": "PrTjuort_mMB",
        "outputId": "5287345d-abd7-44d5-d504-82df7b75dce6"
      },
      "execution_count": 15,
      "outputs": [
        {
          "output_type": "execute_result",
          "data": {
            "text/plain": [
              "<matplotlib.axes._subplots.AxesSubplot at 0x7f3abcb10950>"
            ]
          },
          "metadata": {},
          "execution_count": 15
        },
        {
          "output_type": "display_data",
          "data": {
            "text/plain": [
              "<Figure size 720x504 with 2 Axes>"
            ],
            "image/png": "[encoded data removed]"
          },
          "metadata": {
            "needs_background": "light"
          }
        }
      ]
    },
    {
      "cell_type": "markdown",
      "source": [
        "## **MinMaxScaler**\n",
        "**From the original dataset, we can tell that each of our target value are in close proximity to one another. So, we will use MinMaxScaler to scale down all the target variables in the range of (0, 1) for the ease of computation.**"
      ],
      "metadata": {
        "id": "WF2GVMd_DFLS"
      }
    },
    {
      "cell_type": "code",
      "source": [
        "\n",
        "data_close = d.reset_index()['Close']\n",
        "data_close.head()\n",
        "scaler = MinMaxScaler(feature_range = (0, 1))\n",
        "data_close = scaler.fit_transform(np.array(data_close).reshape(-1, 1))"
      ],
      "metadata": {
        "id": "Jp-hGmFu_qhy"
      },
      "execution_count": 16,
      "outputs": []
    },
    {
      "cell_type": "markdown",
      "source": [
        "**Splitting train, Test data**"
      ],
      "metadata": {
        "id": "03H5XeMHDVcP"
      }
    },
    {
      "cell_type": "code",
      "source": [
        "train_size = int(len(data_close)*0.70)\n",
        "test_size = len(data_close) - train_size\n",
        "train, test = data_close[0 : train_size, :], data_close[train_size : len(data_close), :1]"
      ],
      "metadata": {
        "id": "fhk8erE1_tHw"
      },
      "execution_count": 17,
      "outputs": []
    },
    {
      "cell_type": "code",
      "source": [
        "def create_matrix(ds, time_step=1):\n",
        "    dataX, dataY = [], []\n",
        "    for i in range(len(ds)-time_step-1):\n",
        "        a = ds[i:(i+time_step),0]\n",
        "        dataX.append(a)\n",
        "        dataY.append(ds[i+time_step,0])\n",
        "    return np.array(dataX), np.array(dataY)"
      ],
      "metadata": {
        "id": "d1TGnS2i_wQq"
      },
      "execution_count": 18,
      "outputs": []
    },
    {
      "cell_type": "code",
      "source": [
        "step=100 \n",
        "X_train, y_train = create_matrix(train, step)\n",
        "X_test, y_test = create_matrix(test, step)\n",
        "print(X_train.shape, y_train.shape)\n",
        "print(X_test.shape, y_test.shape)"
      ],
      "metadata": {
        "colab": {
          "base_uri": "https://localhost:8080/"
        },
        "id": "ivjJh4rD_ys5",
        "outputId": "9c2fa9ad-86c2-48b5-a05a-ac6c7db742b3"
      },
      "execution_count": 19,
      "outputs": [
        {
          "output_type": "stream",
          "name": "stdout",
          "text": [
            "(1323, 100) (1323,)\n",
            "(510, 100) (510,)\n"
          ]
        }
      ]
    },
    {
      "cell_type": "code",
      "source": [
        "X_train = X_train.reshape(X_train.shape[0], X_train.shape[1], 1)\n",
        "X_test = X_test.reshape(X_test.shape[0], X_test.shape[1], 1)"
      ],
      "metadata": {
        "id": "fHMief9H_1OF"
      },
      "execution_count": 20,
      "outputs": []
    },
    {
      "cell_type": "markdown",
      "source": [
        "## **LSTM Model**"
      ],
      "metadata": {
        "id": "azaJRn0DDcKA"
      }
    },
    {
      "cell_type": "code",
      "source": [
        "model = Sequential()\n",
        "model.add(LSTM(50, return_sequences=True,input_shape=(100,1)))\n",
        "model.add(LSTM(50,return_sequences=True))\n",
        "model.add(LSTM(50))\n",
        "model.add(Dense(1))\n",
        "model.compile(loss='mean_squared_error',optimizer='adam')"
      ],
      "metadata": {
        "id": "tAEz62pf_3Rs"
      },
      "execution_count": 21,
      "outputs": []
    },
    {
      "cell_type": "code",
      "source": [
        "model.summary()"
      ],
      "metadata": {
        "colab": {
          "base_uri": "https://localhost:8080/"
        },
        "id": "5f35WOuc_6DL",
        "outputId": "7b11d072-876a-4d84-f6dd-2eb068543c18"
      },
      "execution_count": 22,
      "outputs": [
        {
          "output_type": "stream",
          "name": "stdout",
          "text": [
            "Model: \"sequential\"\n",
            "_________________________________________________________________\n",
            " Layer (type)                Output Shape              Param #   \n",
            "=================================================================\n",
            " lstm (LSTM)                 (None, 100, 50)           10400     \n",
            "                                                                 \n",
            " lstm_1 (LSTM)               (None, 100, 50)           20200     \n",
            "                                                                 \n",
            " lstm_2 (LSTM)               (None, 50)                20200     \n",
            "                                                                 \n",
            " dense (Dense)               (None, 1)                 51        \n",
            "                                                                 \n",
            "=================================================================\n",
            "Total params: 50,851\n",
            "Trainable params: 50,851\n",
            "Non-trainable params: 0\n",
            "_________________________________________________________________\n"
          ]
        }
      ]
    },
    {
      "cell_type": "code",
      "source": [
        "history = model.fit(X_train, y_train, validation_split=0.1, epochs=77, batch_size=64, verbose=1, shuffle=True).history"
      ],
      "metadata": {
        "colab": {
          "base_uri": "https://localhost:8080/"
        },
        "id": "hJRNrkcu_9KQ",
        "outputId": "7679ab93-781d-46f1-bc28-09a41ebee981"
      },
      "execution_count": 23,
      "outputs": [
        {
          "output_type": "stream",
          "name": "stdout",
          "text": [
            "Epoch 1/77\n",
            "19/19 [==============================] - 7s 172ms/step - loss: 0.0118 - val_loss: 0.0013\n",
            "Epoch 2/77\n",
            "19/19 [==============================] - 2s 119ms/step - loss: 0.0019 - val_loss: 0.0017\n",
            "Epoch 3/77\n",
            "19/19 [==============================] - 2s 119ms/step - loss: 0.0010 - val_loss: 0.0012\n",
            "Epoch 4/77\n",
            "19/19 [==============================] - 2s 118ms/step - loss: 8.5113e-04 - val_loss: 0.0011\n",
            "Epoch 5/77\n",
            "19/19 [==============================] - 2s 119ms/step - loss: 8.1701e-04 - val_loss: 0.0011\n",
            "Epoch 6/77\n",
            "19/19 [==============================] - 2s 119ms/step - loss: 8.0220e-04 - val_loss: 0.0011\n",
            "Epoch 7/77\n",
            "19/19 [==============================] - 2s 118ms/step - loss: 7.7937e-04 - val_loss: 0.0010\n",
            "Epoch 8/77\n",
            "19/19 [==============================] - 2s 121ms/step - loss: 7.3862e-04 - val_loss: 9.7950e-04\n",
            "Epoch 9/77\n",
            "19/19 [==============================] - 2s 117ms/step - loss: 7.1781e-04 - val_loss: 9.0941e-04\n",
            "Epoch 10/77\n",
            "19/19 [==============================] - 2s 118ms/step - loss: 7.7769e-04 - val_loss: 8.3712e-04\n",
            "Epoch 11/77\n",
            "19/19 [==============================] - 2s 121ms/step - loss: 8.6123e-04 - val_loss: 8.4082e-04\n",
            "Epoch 12/77\n",
            "19/19 [==============================] - 2s 121ms/step - loss: 7.3942e-04 - val_loss: 8.0020e-04\n",
            "Epoch 13/77\n",
            "19/19 [==============================] - 2s 117ms/step - loss: 6.8757e-04 - val_loss: 7.9375e-04\n",
            "Epoch 14/77\n",
            "19/19 [==============================] - 2s 120ms/step - loss: 6.6166e-04 - val_loss: 7.0250e-04\n",
            "Epoch 15/77\n",
            "19/19 [==============================] - 2s 122ms/step - loss: 5.9897e-04 - val_loss: 6.7557e-04\n",
            "Epoch 16/77\n",
            "19/19 [==============================] - 2s 121ms/step - loss: 5.6930e-04 - val_loss: 6.8435e-04\n",
            "Epoch 17/77\n",
            "19/19 [==============================] - 2s 123ms/step - loss: 5.4836e-04 - val_loss: 6.5190e-04\n",
            "Epoch 18/77\n",
            "19/19 [==============================] - 2s 119ms/step - loss: 5.3340e-04 - val_loss: 6.7410e-04\n",
            "Epoch 19/77\n",
            "19/19 [==============================] - 2s 120ms/step - loss: 5.2766e-04 - val_loss: 6.0207e-04\n",
            "Epoch 20/77\n",
            "19/19 [==============================] - 2s 119ms/step - loss: 5.4390e-04 - val_loss: 5.7961e-04\n",
            "Epoch 21/77\n",
            "19/19 [==============================] - 2s 116ms/step - loss: 5.1142e-04 - val_loss: 5.2961e-04\n",
            "Epoch 22/77\n",
            "19/19 [==============================] - 2s 119ms/step - loss: 4.9655e-04 - val_loss: 5.0175e-04\n",
            "Epoch 23/77\n",
            "19/19 [==============================] - 2s 120ms/step - loss: 4.6557e-04 - val_loss: 5.1919e-04\n",
            "Epoch 24/77\n",
            "19/19 [==============================] - 2s 119ms/step - loss: 4.5372e-04 - val_loss: 4.9290e-04\n",
            "Epoch 25/77\n",
            "19/19 [==============================] - 2s 119ms/step - loss: 4.5694e-04 - val_loss: 5.6198e-04\n",
            "Epoch 26/77\n",
            "19/19 [==============================] - 2s 119ms/step - loss: 4.4224e-04 - val_loss: 4.7792e-04\n",
            "Epoch 27/77\n",
            "19/19 [==============================] - 2s 121ms/step - loss: 4.1812e-04 - val_loss: 4.1473e-04\n",
            "Epoch 28/77\n",
            "19/19 [==============================] - 2s 118ms/step - loss: 4.0740e-04 - val_loss: 4.0567e-04\n",
            "Epoch 29/77\n",
            "19/19 [==============================] - 2s 121ms/step - loss: 3.9601e-04 - val_loss: 4.3912e-04\n",
            "Epoch 30/77\n",
            "19/19 [==============================] - 2s 119ms/step - loss: 3.8563e-04 - val_loss: 4.2779e-04\n",
            "Epoch 31/77\n",
            "19/19 [==============================] - 2s 124ms/step - loss: 3.7176e-04 - val_loss: 3.5805e-04\n",
            "Epoch 32/77\n",
            "19/19 [==============================] - 2s 122ms/step - loss: 3.5420e-04 - val_loss: 3.8108e-04\n",
            "Epoch 33/77\n",
            "19/19 [==============================] - 2s 121ms/step - loss: 3.4156e-04 - val_loss: 3.4134e-04\n",
            "Epoch 34/77\n",
            "19/19 [==============================] - 2s 122ms/step - loss: 3.4879e-04 - val_loss: 3.4545e-04\n",
            "Epoch 35/77\n",
            "19/19 [==============================] - 2s 120ms/step - loss: 3.2753e-04 - val_loss: 2.9900e-04\n",
            "Epoch 36/77\n",
            "19/19 [==============================] - 2s 121ms/step - loss: 3.3781e-04 - val_loss: 2.8570e-04\n",
            "Epoch 37/77\n",
            "19/19 [==============================] - 3s 142ms/step - loss: 3.5079e-04 - val_loss: 2.8400e-04\n",
            "Epoch 38/77\n",
            "19/19 [==============================] - 2s 119ms/step - loss: 3.9741e-04 - val_loss: 4.0471e-04\n",
            "Epoch 39/77\n",
            "19/19 [==============================] - 2s 119ms/step - loss: 3.2567e-04 - val_loss: 2.8904e-04\n",
            "Epoch 40/77\n",
            "19/19 [==============================] - 2s 120ms/step - loss: 3.0669e-04 - val_loss: 2.7653e-04\n",
            "Epoch 41/77\n",
            "19/19 [==============================] - 2s 121ms/step - loss: 3.3920e-04 - val_loss: 2.5494e-04\n",
            "Epoch 42/77\n",
            "19/19 [==============================] - 2s 122ms/step - loss: 3.1697e-04 - val_loss: 2.9549e-04\n",
            "Epoch 43/77\n",
            "19/19 [==============================] - 2s 124ms/step - loss: 3.1478e-04 - val_loss: 2.7058e-04\n",
            "Epoch 44/77\n",
            "19/19 [==============================] - 2s 119ms/step - loss: 3.2394e-04 - val_loss: 3.5621e-04\n",
            "Epoch 45/77\n",
            "19/19 [==============================] - 2s 123ms/step - loss: 2.6890e-04 - val_loss: 2.4234e-04\n",
            "Epoch 46/77\n",
            "19/19 [==============================] - 2s 119ms/step - loss: 2.5831e-04 - val_loss: 2.3548e-04\n",
            "Epoch 47/77\n",
            "19/19 [==============================] - 2s 118ms/step - loss: 2.5562e-04 - val_loss: 2.1825e-04\n",
            "Epoch 48/77\n",
            "19/19 [==============================] - 2s 121ms/step - loss: 2.4594e-04 - val_loss: 2.0772e-04\n",
            "Epoch 49/77\n",
            "19/19 [==============================] - 2s 121ms/step - loss: 2.4113e-04 - val_loss: 2.3884e-04\n",
            "Epoch 50/77\n",
            "19/19 [==============================] - 2s 121ms/step - loss: 2.3818e-04 - val_loss: 2.0978e-04\n",
            "Epoch 51/77\n",
            "19/19 [==============================] - 2s 121ms/step - loss: 2.2993e-04 - val_loss: 1.9208e-04\n",
            "Epoch 52/77\n",
            "19/19 [==============================] - 2s 119ms/step - loss: 2.5466e-04 - val_loss: 2.0383e-04\n",
            "Epoch 53/77\n",
            "19/19 [==============================] - 2s 121ms/step - loss: 2.3903e-04 - val_loss: 2.3086e-04\n",
            "Epoch 54/77\n",
            "19/19 [==============================] - 2s 121ms/step - loss: 2.1637e-04 - val_loss: 1.8440e-04\n",
            "Epoch 55/77\n",
            "19/19 [==============================] - 2s 120ms/step - loss: 2.1795e-04 - val_loss: 1.7824e-04\n",
            "Epoch 56/77\n",
            "19/19 [==============================] - 2s 119ms/step - loss: 2.1957e-04 - val_loss: 1.7755e-04\n",
            "Epoch 57/77\n",
            "19/19 [==============================] - 2s 122ms/step - loss: 2.4212e-04 - val_loss: 2.2205e-04\n",
            "Epoch 58/77\n",
            "19/19 [==============================] - 2s 124ms/step - loss: 2.4945e-04 - val_loss: 2.0066e-04\n",
            "Epoch 59/77\n",
            "19/19 [==============================] - 2s 123ms/step - loss: 2.0425e-04 - val_loss: 1.7744e-04\n",
            "Epoch 60/77\n",
            "19/19 [==============================] - 2s 123ms/step - loss: 1.9424e-04 - val_loss: 1.6423e-04\n",
            "Epoch 61/77\n",
            "19/19 [==============================] - 2s 122ms/step - loss: 1.9309e-04 - val_loss: 1.7507e-04\n",
            "Epoch 62/77\n",
            "19/19 [==============================] - 2s 121ms/step - loss: 1.9168e-04 - val_loss: 1.9019e-04\n",
            "Epoch 63/77\n",
            "19/19 [==============================] - 2s 122ms/step - loss: 1.9223e-04 - val_loss: 1.6498e-04\n",
            "Epoch 64/77\n",
            "19/19 [==============================] - 2s 121ms/step - loss: 1.7487e-04 - val_loss: 1.5197e-04\n",
            "Epoch 65/77\n",
            "19/19 [==============================] - 2s 121ms/step - loss: 1.7348e-04 - val_loss: 1.4399e-04\n",
            "Epoch 66/77\n",
            "19/19 [==============================] - 2s 121ms/step - loss: 1.7015e-04 - val_loss: 1.9149e-04\n",
            "Epoch 67/77\n",
            "19/19 [==============================] - 2s 122ms/step - loss: 1.8145e-04 - val_loss: 2.0182e-04\n",
            "Epoch 68/77\n",
            "19/19 [==============================] - 2s 121ms/step - loss: 1.8420e-04 - val_loss: 1.5116e-04\n",
            "Epoch 69/77\n",
            "19/19 [==============================] - 2s 117ms/step - loss: 1.9734e-04 - val_loss: 1.4336e-04\n",
            "Epoch 70/77\n",
            "19/19 [==============================] - 2s 119ms/step - loss: 2.0357e-04 - val_loss: 1.5122e-04\n",
            "Epoch 71/77\n",
            "19/19 [==============================] - 2s 120ms/step - loss: 1.9632e-04 - val_loss: 1.4930e-04\n",
            "Epoch 72/77\n",
            "19/19 [==============================] - 2s 120ms/step - loss: 1.8170e-04 - val_loss: 1.4252e-04\n",
            "Epoch 73/77\n",
            "19/19 [==============================] - 2s 122ms/step - loss: 1.7244e-04 - val_loss: 1.4206e-04\n",
            "Epoch 74/77\n",
            "19/19 [==============================] - 2s 119ms/step - loss: 1.5600e-04 - val_loss: 1.4021e-04\n",
            "Epoch 75/77\n",
            "19/19 [==============================] - 2s 120ms/step - loss: 1.5418e-04 - val_loss: 1.3253e-04\n",
            "Epoch 76/77\n",
            "19/19 [==============================] - 2s 119ms/step - loss: 1.6230e-04 - val_loss: 1.4201e-04\n",
            "Epoch 77/77\n",
            "19/19 [==============================] - 2s 120ms/step - loss: 1.5696e-04 - val_loss: 1.4150e-04\n"
          ]
        }
      ]
    },
    {
      "cell_type": "code",
      "source": [
        "train_predict = model.predict(X_train)\n",
        "test_predict = model.predict(X_test)"
      ],
      "metadata": {
        "id": "qiclcxhwAA6t"
      },
      "execution_count": 24,
      "outputs": []
    },
    {
      "cell_type": "code",
      "source": [
        "# Reversing the MinMax Scaler\n",
        "train_predict = scaler.inverse_transform(train_predict)\n",
        "test_predict = scaler.inverse_transform(test_predict)"
      ],
      "metadata": {
        "id": "9R040Vo4AD_a"
      },
      "execution_count": 25,
      "outputs": []
    },
    {
      "cell_type": "code",
      "source": [
        "math.sqrt(mean_squared_error(y_train, train_predict))\n",
        "math.sqrt(mean_squared_error(y_test,test_predict))"
      ],
      "metadata": {
        "colab": {
          "base_uri": "https://localhost:8080/"
        },
        "id": "IrhOAYw6AI0C",
        "outputId": "3b064590-da47-464d-9718-2020ef147161"
      },
      "execution_count": 26,
      "outputs": [
        {
          "output_type": "execute_result",
          "data": {
            "text/plain": [
              "206.20297434400803"
            ]
          },
          "metadata": {},
          "execution_count": 26
        }
      ]
    },
    {
      "cell_type": "code",
      "source": [
        "### Visualise the Predictions\n",
        "look_back = 100\n",
        "train_num_pyredict_plot = np.empty_like(data_close)\n",
        "train_num_pyredict_plot[:, :] = np.nan\n",
        "train_num_pyredict_plot[look_back : len(train_predict) + look_back, :] = train_predict\n",
        "test_predict_plot = np.empty_like(data_close)\n",
        "test_predict_plot[:, :] = np.nan\n",
        "test_predict_plot[len(train_predict) + (look_back * 2) + 1 : len(data_close) - 1, :] = test_predict\n",
        "plt.plot(scaler.inverse_transform(data_close))\n",
        "plt.plot(train_num_pyredict_plot)\n",
        "plt.plot(test_predict_plot)\n",
        "plt.show()"
      ],
      "metadata": {
        "colab": {
          "base_uri": "https://localhost:8080/",
          "height": 265
        },
        "id": "TPW8Y7ApANJ2",
        "outputId": "0d5125cb-d42e-4b2a-9c30-dde3d2bf3379"
      },
      "execution_count": 27,
      "outputs": [
        {
          "output_type": "display_data",
          "data": {
            "text/plain": [
              "<Figure size 432x288 with 1 Axes>"
            ],
            "image/png": "[encoded data removed]"
          },
          "metadata": {
            "needs_background": "light"
          }
        }
      ]
    },
    {
      "cell_type": "code",
      "source": [
        "### Future Prediction Model\n",
        "x_inum_pyut=test[307:].reshape(1, -1)\n",
        "x_inum_pyut.shape\n",
        "temp_inum_pyut = list(x_inum_pyut)\n",
        "temp_inum_pyut = temp_inum_pyut[0].tolist()\n",
        "temp_inum_pyut = list(x_inum_pyut)\n",
        "temp_inum_pyut = temp_inum_pyut[0].tolist()"
      ],
      "metadata": {
        "id": "dUl1xefoAQBU"
      },
      "execution_count": 28,
      "outputs": []
    },
    {
      "cell_type": "code",
      "source": [
        "day_new = np.arange(1, 101)\n",
        "day_pred = np.arange(101, 131)\n",
        "plt.plot(day_new, scaler.inverse_transform(data_close[1935 : ]))"
      ],
      "metadata": {
        "colab": {
          "base_uri": "https://localhost:8080/",
          "height": 282
        },
        "id": "Uj65QezQASee",
        "outputId": "5eb97d48-a422-4ee8-9cfb-0078fe2c922f"
      },
      "execution_count": 29,
      "outputs": [
        {
          "output_type": "execute_result",
          "data": {
            "text/plain": [
              "[<matplotlib.lines.Line2D at 0x7f3ab59fa810>]"
            ]
          },
          "metadata": {},
          "execution_count": 29
        },
        {
          "output_type": "display_data",
          "data": {
            "text/plain": [
              "<Figure size 432x288 with 1 Axes>"
            ],
            "image/png": "[encoded data removed]"
          },
          "metadata": {
            "needs_background": "light"
          }
        }
      ]
    }
  ]
}